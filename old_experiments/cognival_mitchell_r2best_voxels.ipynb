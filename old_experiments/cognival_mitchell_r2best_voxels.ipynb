{
 "cells": [
  {
   "attachments": {},
   "cell_type": "markdown",
   "metadata": {},
   "source": [
    "### Semantic features as word embeddings"
   ]
  },
  {
   "cell_type": "code",
   "execution_count": 1,
   "metadata": {},
   "outputs": [],
   "source": [
    "import numpy as np\n",
    "import os\n",
    "import torch\n",
    "import json\n",
    "from tqdm import tqdm"
   ]
  },
  {
   "attachments": {},
   "cell_type": "markdown",
   "metadata": {},
   "source": [
    "### Semantic features"
   ]
  },
  {
   "cell_type": "code",
   "execution_count": 2,
   "metadata": {},
   "outputs": [],
   "source": [
    "min_len_line = 5\n",
    "N_SEMANTIC_FEATURES = 25\n",
    "semantic_features = {}\n",
    "\n",
    "def dump_mitchell_web_semantic_features(raw_file = os.path.join(\"data\",\"mitchell_semantic_raw.txt\")):\n",
    "    with open(raw_file, \"r\") as datafile:\n",
    "        lines = datafile.readlines()\n",
    "        word = None\n",
    "\n",
    "        for line in lines:\n",
    "\n",
    "            # Skip empty\n",
    "            if len(line) >= min_len_line:\n",
    "\n",
    "                # New feature\n",
    "                if \"Features for\" in line:\n",
    "\n",
    "                    # Discard invalid ones (once fully parsed)\n",
    "                    if word and len(semantic_features[word]['features']) < N_SEMANTIC_FEATURES: del semantic_features[word] \n",
    "                        \n",
    "                    word = line.split(\"<a name=\\\"\")[1].split(\"\\\"\")[0]\n",
    "                    semantic_features[word] = { \"features\": [], \"values\": []}\n",
    "\n",
    "                elif word:\n",
    "                    feature_name = line.split(\"(\")[0]\n",
    "                    val = float(line.split(\"(\")[1].split(\")\")[0])\n",
    "                    semantic_features[word][\"features\"].append(feature_name)\n",
    "                    semantic_features[word][\"values\"].append(val)\n",
    "\n",
    "    # Save to file\n",
    "    with open(os.path.join('data', 'mitchell_semantic_features.json'), 'w') as fp:\n",
    "        json.dump(semantic_features, fp)\n",
    "\n",
    "    return semantic_features"
   ]
  },
  {
   "cell_type": "code",
   "execution_count": 3,
   "metadata": {},
   "outputs": [],
   "source": [
    "semantic_features = dump_mitchell_web_semantic_features()"
   ]
  },
  {
   "attachments": {},
   "cell_type": "markdown",
   "metadata": {},
   "source": [
    "### fMRI data"
   ]
  },
  {
   "cell_type": "code",
   "execution_count": 4,
   "metadata": {},
   "outputs": [],
   "source": [
    "def get_word_activations(path, skip_lines=0):\n",
    "    \"\"\"\n",
    "        Returns dataset of fMRI word activations\n",
    "        path            Path to .txt fMRI data vectors (continuous) from Cognival\n",
    "        context_len     Words before the occurring one\n",
    "        data            Returned dictionary with key ['word'] -> {'context', 'activations'}\n",
    "    \"\"\"\n",
    "    data = {}\n",
    "    with open(path, \"r\") as datafile:\n",
    "        lines = datafile.readlines()[skip_lines:] # skip header\n",
    "        for line in tqdm(lines):\n",
    "            word = line.split(\" \")[0]\n",
    "            activations = np.array([float(x) for x in line.split(\" \")[1:]])\n",
    "            data[word] = {\"activations\": activations}\n",
    "    return data"
   ]
  },
  {
   "cell_type": "code",
   "execution_count": 5,
   "metadata": {},
   "outputs": [
    {
     "name": "stderr",
     "output_type": "stream",
     "text": [
      "100%|██████████| 60/60 [00:00<00:00, 1477.16it/s]\n"
     ]
    }
   ],
   "source": [
    "subject = 1\n",
    "voxels = 1000\n",
    "\n",
    "# Over all subjects\n",
    "filename = os.path.join(\"data\", \"cognival\", \"fmri\", \"nouns\", f\"{voxels}-random-voxels\", f\"scaled_{voxels}_mitchell_targets_{subject}.txt\")\n",
    "fmriData = get_word_activations(filename, skip_lines = 1)"
   ]
  },
  {
   "cell_type": "markdown",
   "metadata": {},
   "source": [
    "### Predicting"
   ]
  },
  {
   "cell_type": "code",
   "execution_count": 6,
   "metadata": {},
   "outputs": [],
   "source": [
    "from sklearn.model_selection import train_test_split\n",
    "from sklearn.pipeline import make_pipeline\n",
    "from sklearn.preprocessing import StandardScaler\n",
    "from sklearn.linear_model import Ridge, Lasso, LinearRegression\n",
    "\n",
    "from tqdm import tqdm\n",
    "from numpy import dot\n",
    "from numpy.linalg import norm\n",
    "\n",
    "def cosim(a, b):\n",
    "    return dot(a, b)/(norm(a)*norm(b))"
   ]
  },
  {
   "cell_type": "code",
   "execution_count": 7,
   "metadata": {},
   "outputs": [],
   "source": [
    "def compute_fold_accuracy(predictors, X_test, y_test, selected_voxels):\n",
    "\n",
    "    p1 = np.array([predictor.predict([X_test[0]])[0] for predictor in predictors])[selected_voxels]\n",
    "    p2 = np.array([predictor.predict([X_test[1]])[0] for predictor in predictors])[selected_voxels]\n",
    "    i1, i2 = y_test[:, selected_voxels] # 0, 1\n",
    "\n",
    "    # True positives\n",
    "    tp1 = int(cosim(p1, i1) > cosim(p1, i2))\n",
    "    tp2 = int(cosim(p2, i1) < cosim(p2, i2))\n",
    "\n",
    "    return (tp1 + tp2) / 2"
   ]
  },
  {
   "cell_type": "code",
   "execution_count": 8,
   "metadata": {},
   "outputs": [
    {
     "data": {
      "text/plain": [
       "(60, 2, 1000)"
      ]
     },
     "execution_count": 8,
     "metadata": {},
     "output_type": "execute_result"
    }
   ],
   "source": [
    "k_folds = 30\n",
    "n_samples = len(semantic_features.keys())\n",
    "\n",
    "assert n_samples % k_folds == 0, \"Number of folds must divide the samples in equal parts. Choose a valid multiplier.\"\n",
    "\n",
    "samples_per_fold = (n_samples // k_folds)\n",
    "n_voxels = fmriData[\"bell\"][\"activations\"].shape[0]\n",
    "THRESHOLD = 0.2\n",
    "accuracies = []\n",
    "voxels_amounts = []\n",
    "\n",
    "n_samples, samples_per_fold, n_voxels"
   ]
  },
  {
   "cell_type": "code",
   "execution_count": 9,
   "metadata": {},
   "outputs": [
    {
     "name": "stderr",
     "output_type": "stream",
     "text": [
      "100%|██████████| 30/30 [00:30<00:00,  1.01s/it]\n"
     ]
    },
    {
     "data": {
      "text/plain": [
       "(0.9833333333333333, 91.26666666666667)"
      ]
     },
     "execution_count": 9,
     "metadata": {},
     "output_type": "execute_result"
    }
   ],
   "source": [
    "for i in tqdm(range(k_folds)):\n",
    "\n",
    "    # Extracting filtered (most stable voxels) training set\n",
    "    train_indices = np.array(list(range(samples_per_fold * i)) + list(range((samples_per_fold * (i+1)), n_samples)), dtype=np.int32)\n",
    "    test_indices = np.array(list(range((samples_per_fold * i), samples_per_fold * (i + 1))), dtype=np.int32)\n",
    "\n",
    "    # Building train set\n",
    "    X = []\n",
    "    Y = []\n",
    "\n",
    "    for word in semantic_features.keys():\n",
    "        if word in fmriData.keys():\n",
    "            x = np.array(semantic_features[word][\"values\"])\n",
    "            y = np.array(fmriData[word][\"activations\"])\n",
    "\n",
    "            X.append(x)\n",
    "            Y.append(y)\n",
    "\n",
    "    X = np.array(X)\n",
    "    Y = np.array(Y)\n",
    "\n",
    "    # Train-test split\n",
    "    X_train, X_test, y_train, y_test = X[train_indices], X[test_indices], Y[train_indices], Y[test_indices]\n",
    "    \n",
    "    # Normalization based on train data\n",
    "    normalizer = StandardScaler()\n",
    "    normalizer.fit(X_train)\n",
    "\n",
    "    X_train = normalizer.transform(X_train)\n",
    "    X_test = normalizer.transform(X_test)\n",
    "\n",
    "    # Predicting & scoring\n",
    "    predictors = [LinearRegression() for i in range(n_voxels)]\n",
    "    scores = []\n",
    "\n",
    "    # One predictor per voxel\n",
    "    j = 0\n",
    "    for model in predictors:\n",
    "        model.fit(X_train, y_train[:, j])\n",
    "        scores.append(model.score(X_test, y_test[:, j]))\n",
    "        j += 1\n",
    "\n",
    "    # Select voxels by R2 score and compute 2 words accuracy\n",
    "    scores = np.array(scores)\n",
    "    voxel_indices = np.where(scores > THRESHOLD)[0]\n",
    "    \n",
    "    voxels_amounts.append(voxel_indices.shape[0])\n",
    "    accuracies.append(compute_fold_accuracy(predictors, X_test, y_test, voxel_indices))\n",
    "\n",
    "np.mean(accuracies), np.mean(voxels_amounts)\n"
   ]
  },
  {
   "attachments": {},
   "cell_type": "markdown",
   "metadata": {},
   "source": [
    "**Observation**\n",
    "\n",
    "On average, around 100 voxels (10%) achieve a an acceptable R2 score and this subsets achieves 98% of accuracy in predicting distinguishable brain activity! Also: the higher the threshold, the smaller the subset and the higher the accuracy!\n",
    "- Threshold: 0.7, mean accuracy: 1.0, voxels: 77\n",
    "- Threshold: 0.2, mean accuracy: 0.98, voxels: 92\n",
    "- Treshold: 0, mean accuracy: 0.98, voxels: 122"
   ]
  },
  {
   "cell_type": "code",
   "execution_count": 10,
   "metadata": {},
   "outputs": [
    {
     "name": "stdout",
     "output_type": "stream",
     "text": [
      "Test RDMs R^2:\tPearsonRResult(statistic=0.13951911832313996, pvalue=4.3324706204712967e-16)\n"
     ]
    },
    {
     "data": {
      "text/plain": [
       "<matplotlib.colorbar.Colorbar at 0x28e0b8d4a00>"
      ]
     },
     "execution_count": 10,
     "metadata": {},
     "output_type": "execute_result"
    },
    {
     "data": {
      "image/png": "[encoded data removed]",
      "text/plain": [
       "<Figure size 640x480 with 4 Axes>"
      ]
     },
     "metadata": {},
     "output_type": "display_data"
    }
   ],
   "source": [
    "from scipy.stats import pearsonr\n",
    "import matplotlib.pyplot as plt\n",
    "\n",
    "def best_K_predict(X, indices, predictors):\n",
    "    predictors = [predictors[idx] for idx in indices]\n",
    "    y_hat = np.array([predictor.predict(X) for predictor in predictors]) # voxels, sample\n",
    "    return y_hat.reshape(y_hat.shape[1], y_hat.shape[0]) # sample, voxels\n",
    "\n",
    "\n",
    "y_hat = best_K_predict(X_train, voxel_indices, predictors)\n",
    "y = y_train[:, voxel_indices]\n",
    "\n",
    "RDM_hat = np.matmul(y_hat, np.matrix.transpose(y_hat))\n",
    "\n",
    "RDM = np.matmul(y, np.matrix.transpose(y))\n",
    "\n",
    "test_pearson = pearsonr(\n",
    "    RDM_hat.flatten(),\n",
    "    RDM.flatten()\n",
    ")\n",
    "\n",
    "print(f\"Test RDMs R^2:\\t{test_pearson}\")\n",
    "\n",
    "plt.subplot(121)\n",
    "plt.title(\"Truth\")\n",
    "plt.imshow(RDM)\n",
    "plt.colorbar()\n",
    "\n",
    "plt.subplot(122)\n",
    "plt.title(\"Prediction\")\n",
    "plt.imshow(RDM_hat)\n",
    "plt.colorbar()"
   ]
  },
  {
   "attachments": {},
   "cell_type": "markdown",
   "metadata": {},
   "source": [
    "**Observation**\n",
    "\n",
    "Here the the voxels from the last cross_val iteration have been selected. For these voxels, the object to object distance matrices have similar patterns."
   ]
  }
 ],
 "metadata": {
  "kernelspec": {
   "display_name": "pytorch_deeplearning",
   "language": "python",
   "name": "python3"
  },
  "language_info": {
   "codemirror_mode": {
    "name": "ipython",
    "version": 3
   },
   "file_extension": ".py",
   "mimetype": "text/x-python",
   "name": "python",
   "nbconvert_exporter": "python",
   "pygments_lexer": "ipython3",
   "version": "3.8.13"
  },
  "orig_nbformat": 4
 },
 "nbformat": 4,
 "nbformat_minor": 2
}
