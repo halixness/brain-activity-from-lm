{
 "cells": [
  {
   "attachments": {},
   "cell_type": "markdown",
   "metadata": {},
   "source": [
    "### Semantic features as word embeddings"
   ]
  },
  {
   "cell_type": "code",
   "execution_count": 1,
   "metadata": {},
   "outputs": [],
   "source": [
    "import numpy as np\n",
    "import os\n",
    "import torch\n",
    "import json\n",
    "from tqdm import tqdm\n",
    "import scipy"
   ]
  },
  {
   "attachments": {},
   "cell_type": "markdown",
   "metadata": {},
   "source": [
    "### Glove 300"
   ]
  },
  {
   "cell_type": "code",
   "execution_count": 2,
   "metadata": {},
   "outputs": [],
   "source": [
    "def get_word_activations(path, skip_lines=0):\n",
    "    \"\"\"\n",
    "        Returns dataset of fMRI word activations\n",
    "        path            Path to .txt fMRI data vectors (continuous) from Cognival\n",
    "        context_len     Words before the occurring one\n",
    "        data            Returned dictionary with key ['word'] -> {'context', 'activations'}\n",
    "    \"\"\"\n",
    "    data = {}\n",
    "    with open(path, \"r\") as datafile:\n",
    "        lines = datafile.readlines()[skip_lines:] # skip header\n",
    "        for line in tqdm(lines):\n",
    "            word = line.split(\" \")[0]\n",
    "            activations = np.array([float(x) for x in line.split(\" \")[1:]])\n",
    "            data[word] = {\"activations\": activations}\n",
    "    return data"
   ]
  },
  {
   "cell_type": "code",
   "execution_count": 3,
   "metadata": {},
   "outputs": [
    {
     "name": "stderr",
     "output_type": "stream",
     "text": [
      "100%|██████████| 400000/400000 [00:37<00:00, 10700.06it/s]\n"
     ]
    }
   ],
   "source": [
    "filename = os.path.join(\"data\", \"glove.6B\", f\"glove.6B.300d.txt\")\n",
    "glove_embeddings = get_word_activations(filename, skip_lines = 0)"
   ]
  },
  {
   "attachments": {},
   "cell_type": "markdown",
   "metadata": {},
   "source": [
    "### fMRI data"
   ]
  },
  {
   "cell_type": "code",
   "execution_count": 4,
   "metadata": {},
   "outputs": [],
   "source": [
    "def get_mitchell_original_data(subject = 1, random_voxels = None):\n",
    "    mdata = scipy.io.loadmat(os.path.join(\"data\", \"mitchell\", f\"mitchell_subject_{subject}.mat\"))\n",
    "    subject_data = {}\n",
    "\n",
    "    # 6 x 60 trials\n",
    "    for i in range(mdata[\"data\"][:].shape[0]):\n",
    "        cond, cond_number, word, word_number, epoch = [x[0] for x in mdata[\"info\"][0][i]]\n",
    "\n",
    "        # Set trial data\n",
    "        if epoch[0] not in subject_data: subject_data[epoch[0]] = {}\n",
    "\n",
    "        if random_voxels:\n",
    "            random_voxels_idx = np.random.choice(mdata[\"data\"][i][0][0].shape[0], random_voxels)\n",
    "            subject_data[epoch[0]][word] = mdata[\"data\"][i][0][0][random_voxels_idx]\n",
    "        else: subject_data[epoch[0]][word] = mdata[\"data\"][i][0][0]\n",
    "\n",
    "    return subject_data"
   ]
  },
  {
   "cell_type": "code",
   "execution_count": 5,
   "metadata": {},
   "outputs": [],
   "source": [
    "epoch = 1\n",
    "fmriData = get_mitchell_original_data(subject=1)[epoch]"
   ]
  },
  {
   "cell_type": "markdown",
   "metadata": {},
   "source": [
    "### Predicting"
   ]
  },
  {
   "cell_type": "code",
   "execution_count": 6,
   "metadata": {},
   "outputs": [],
   "source": [
    "from sklearn.model_selection import train_test_split\n",
    "from sklearn.pipeline import make_pipeline\n",
    "from sklearn.preprocessing import StandardScaler\n",
    "from sklearn.linear_model import Ridge, Lasso, LinearRegression\n",
    "\n",
    "from tqdm import tqdm\n",
    "from numpy import dot\n",
    "from numpy.linalg import norm\n",
    "\n",
    "def cosim(a, b):\n",
    "    return dot(a, b)/(norm(a)*norm(b))"
   ]
  },
  {
   "cell_type": "code",
   "execution_count": 7,
   "metadata": {},
   "outputs": [],
   "source": [
    "def compute_fold_accuracy(predictors, X_test, y_test, selected_voxels):\n",
    "\n",
    "    true_positives = []\n",
    "\n",
    "    # For each sample prediction -> cosine similarity with all truth images\n",
    "    for i in range(X_test.shape[0]):\n",
    "\n",
    "        pi = np.array([predictor.predict([X_test[i]])[0] for predictor in predictors])[selected_voxels]\n",
    "\n",
    "        best_sample_match = np.argmax([cosim(pi, y_test[j, selected_voxels]) for j in range(y_test.shape[0])])\n",
    "        true_positives.append(int(best_sample_match == i)) # ground truth is aligned with the sample by index, it should match\n",
    "\n",
    "    return np.mean(true_positives)"
   ]
  },
  {
   "cell_type": "code",
   "execution_count": 8,
   "metadata": {},
   "outputs": [
    {
     "name": "stdout",
     "output_type": "stream",
     "text": [
      "60\n"
     ]
    },
    {
     "data": {
      "text/plain": [
       "(60, 2, 21764)"
      ]
     },
     "execution_count": 8,
     "metadata": {},
     "output_type": "execute_result"
    }
   ],
   "source": [
    "k_folds = 30\n",
    "n_samples = len(fmriData.keys())\n",
    "\n",
    "print(n_samples)\n",
    "assert n_samples % k_folds == 0, \"Number of folds must divide the samples in equal parts. Choose a valid multiplier.\"\n",
    "\n",
    "samples_per_fold = (n_samples // k_folds)\n",
    "n_voxels = fmriData[\"bell\"].shape[0]\n",
    "THRESHOLD = 0.2\n",
    "accuracies = []\n",
    "voxels_amounts = []\n",
    "\n",
    "n_samples, samples_per_fold, n_voxels"
   ]
  },
  {
   "cell_type": "code",
   "execution_count": 9,
   "metadata": {},
   "outputs": [
    {
     "name": "stderr",
     "output_type": "stream",
     "text": [
      "100%|██████████| 21764/21764 [02:47<00:00, 129.88it/s]\n",
      "100%|██████████| 21764/21764 [02:45<00:00, 131.87it/s]\n",
      "100%|██████████| 21764/21764 [02:44<00:00, 131.98it/s]\n",
      "100%|██████████| 21764/21764 [02:44<00:00, 131.93it/s]\n",
      "100%|██████████| 21764/21764 [02:46<00:00, 131.09it/s]\n",
      "100%|██████████| 21764/21764 [02:45<00:00, 131.74it/s]\n",
      "100%|██████████| 21764/21764 [02:44<00:00, 132.01it/s]\n",
      "100%|██████████| 21764/21764 [02:45<00:00, 131.60it/s]\n",
      "100%|██████████| 21764/21764 [02:45<00:00, 131.81it/s]\n",
      "100%|██████████| 21764/21764 [02:45<00:00, 131.79it/s]\n",
      "100%|██████████| 21764/21764 [02:45<00:00, 131.85it/s]\n",
      "100%|██████████| 21764/21764 [02:53<00:00, 125.13it/s]\n",
      "100%|██████████| 21764/21764 [02:47<00:00, 130.31it/s]\n",
      "100%|██████████| 21764/21764 [02:45<00:00, 131.28it/s]\n",
      "100%|██████████| 21764/21764 [02:48<00:00, 129.24it/s]\n",
      "100%|██████████| 21764/21764 [02:46<00:00, 131.08it/s]\n",
      "100%|██████████| 21764/21764 [02:45<00:00, 131.63it/s]\n",
      "100%|██████████| 21764/21764 [03:02<00:00, 119.23it/s]\n",
      "100%|██████████| 21764/21764 [03:04<00:00, 118.03it/s]\n",
      "100%|██████████| 21764/21764 [03:01<00:00, 119.97it/s]\n",
      "100%|██████████| 21764/21764 [03:04<00:00, 118.19it/s]\n",
      "100%|██████████| 21764/21764 [03:23<00:00, 107.06it/s]\n",
      "100%|██████████| 21764/21764 [03:12<00:00, 113.17it/s]\n",
      "100%|██████████| 21764/21764 [03:07<00:00, 116.26it/s]\n",
      "100%|██████████| 21764/21764 [03:03<00:00, 118.42it/s]\n",
      "100%|██████████| 21764/21764 [03:03<00:00, 118.32it/s]\n",
      "100%|██████████| 21764/21764 [03:07<00:00, 115.97it/s]\n",
      "100%|██████████| 21764/21764 [03:24<00:00, 106.45it/s]\n",
      "100%|██████████| 21764/21764 [03:29<00:00, 104.02it/s]\n",
      "100%|██████████| 21764/21764 [03:24<00:00, 106.62it/s]\n"
     ]
    },
    {
     "data": {
      "text/plain": [
       "(1.0, 2559.0)"
      ]
     },
     "execution_count": 9,
     "metadata": {},
     "output_type": "execute_result"
    }
   ],
   "source": [
    "for i in (range(k_folds)):\n",
    "\n",
    "    # Extracting filtered (most stable voxels) training set\n",
    "    train_indices = np.array(list(range(samples_per_fold * i)) + list(range((samples_per_fold * (i+1)), n_samples)), dtype=np.int32)\n",
    "    test_indices = np.array(list(range((samples_per_fold * i), samples_per_fold * (i + 1))), dtype=np.int32)\n",
    "\n",
    "    # Building train set\n",
    "    X = []\n",
    "    Y = []\n",
    "\n",
    "    for word in glove_embeddings.keys():\n",
    "        if word in fmriData.keys():\n",
    "            x = np.array(glove_embeddings[word][\"activations\"])\n",
    "            y = np.array(fmriData[word])\n",
    "\n",
    "            X.append(x)\n",
    "            Y.append(y)\n",
    "\n",
    "    X = np.array(X)\n",
    "    Y = np.array(Y)\n",
    "\n",
    "    # Train-test split\n",
    "    X_train, X_test, y_train, y_test = X[train_indices], X[test_indices], Y[train_indices], Y[test_indices]\n",
    "    \n",
    "    # Normalization based on train data\n",
    "    normalizer = StandardScaler()\n",
    "    normalizer.fit(X_train)\n",
    "\n",
    "    X_train = normalizer.transform(X_train)\n",
    "    X_test = normalizer.transform(X_test)\n",
    "\n",
    "    # Predicting & scoring\n",
    "    predictors = [LinearRegression() for i in range(n_voxels)]\n",
    "    scores = []\n",
    "\n",
    "    # One predictor per voxel\n",
    "    j = 0\n",
    "    for model in tqdm(predictors):\n",
    "        model.fit(X_train, y_train[:, j])\n",
    "        scores.append(model.score(X_test, y_test[:, j]))\n",
    "        j += 1\n",
    "\n",
    "    # Select voxels by R2 score and compute 2 words accuracy\n",
    "    scores = np.array(scores)\n",
    "    voxel_indices = np.where(scores > THRESHOLD)[0]\n",
    "    \n",
    "    voxels_amounts.append(voxel_indices.shape[0])\n",
    "    accuracies.append(compute_fold_accuracy(predictors, X_test, y_test, voxel_indices))\n",
    "\n",
    "np.mean(accuracies), np.mean(voxels_amounts)\n"
   ]
  },
  {
   "attachments": {},
   "cell_type": "markdown",
   "metadata": {},
   "source": [
    "**Observation**\n",
    "\n",
    "In this case fitting is way more expensive, as 21k voxels are considered."
   ]
  },
  {
   "cell_type": "code",
   "execution_count": 11,
   "metadata": {},
   "outputs": [
    {
     "name": "stdout",
     "output_type": "stream",
     "text": [
      "Test RDMs R^2:\tPearsonRResult(statistic=0.373693066925199, pvalue=5.7176039593930475e-112)\n"
     ]
    },
    {
     "data": {
      "text/plain": [
       "<matplotlib.colorbar.Colorbar at 0x227581a4460>"
      ]
     },
     "execution_count": 11,
     "metadata": {},
     "output_type": "execute_result"
    },
    {
     "data": {
      "image/png": "[encoded data removed]",
      "text/plain": [
       "<Figure size 640x480 with 4 Axes>"
      ]
     },
     "metadata": {},
     "output_type": "display_data"
    }
   ],
   "source": [
    "from scipy.stats import pearsonr\n",
    "import matplotlib.pyplot as plt\n",
    "\n",
    "def best_K_predict(X, indices, predictors):\n",
    "    predictors = [predictors[idx] for idx in indices]\n",
    "    y_hat = np.array([predictor.predict(X) for predictor in predictors]) # voxels, sample\n",
    "    return y_hat.reshape(y_hat.shape[1], y_hat.shape[0]) # sample, voxels\n",
    "\n",
    "\n",
    "y_hat = best_K_predict(X_train, voxel_indices, predictors)\n",
    "y = y_train[:, voxel_indices]\n",
    "\n",
    "RDM_hat = np.matmul(y_hat, np.matrix.transpose(y_hat))\n",
    "\n",
    "RDM = np.matmul(y, np.matrix.transpose(y))\n",
    "\n",
    "test_pearson = pearsonr(\n",
    "    RDM_hat.flatten(),\n",
    "    RDM.flatten()\n",
    ")\n",
    "\n",
    "print(f\"Test RDMs R^2:\\t{test_pearson}\")\n",
    "\n",
    "plt.subplot(121)\n",
    "plt.title(\"Truth\")\n",
    "plt.imshow(RDM)\n",
    "plt.colorbar()\n",
    "\n",
    "plt.subplot(122)\n",
    "plt.title(\"Prediction\")\n",
    "plt.imshow(RDM_hat)\n",
    "plt.colorbar()"
   ]
  },
  {
   "attachments": {},
   "cell_type": "markdown",
   "metadata": {},
   "source": [
    "**Observation**\n",
    "\n",
    "Here the the voxels from the last cross_val iteration have been selected. For these voxels, the object to object distance matrices have similar patterns."
   ]
  }
 ],
 "metadata": {
  "kernelspec": {
   "display_name": "pytorch_deeplearning",
   "language": "python",
   "name": "python3"
  },
  "language_info": {
   "codemirror_mode": {
    "name": "ipython",
    "version": 3
   },
   "file_extension": ".py",
   "mimetype": "text/x-python",
   "name": "python",
   "nbconvert_exporter": "python",
   "pygments_lexer": "ipython3",
   "version": "3.8.13"
  },
  "orig_nbformat": 4
 },
 "nbformat": 4,
 "nbformat_minor": 2
}
