{
 "cells": [
  {
   "attachments": {},
   "cell_type": "markdown",
   "metadata": {},
   "source": [
    "### Semantic features as word embeddings"
   ]
  },
  {
   "cell_type": "code",
   "execution_count": 1,
   "metadata": {},
   "outputs": [],
   "source": [
    "import numpy as np\n",
    "import os\n",
    "import torch\n",
    "import json\n",
    "from tqdm import tqdm"
   ]
  },
  {
   "attachments": {},
   "cell_type": "markdown",
   "metadata": {},
   "source": [
    "### Semantic features"
   ]
  },
  {
   "cell_type": "code",
   "execution_count": 2,
   "metadata": {},
   "outputs": [],
   "source": [
    "min_len_line = 5\n",
    "N_SEMANTIC_FEATURES = 25\n",
    "semantic_features = {}\n",
    "\n",
    "def dump_mitchell_web_semantic_features(raw_file = os.path.join(\"data\",\"mitchell_semantic_raw.txt\")):\n",
    "    with open(raw_file, \"r\") as datafile:\n",
    "        lines = datafile.readlines()\n",
    "        word = None\n",
    "\n",
    "        for line in lines:\n",
    "\n",
    "            # Skip empty\n",
    "            if len(line) >= min_len_line:\n",
    "\n",
    "                # New feature\n",
    "                if \"Features for\" in line:\n",
    "\n",
    "                    # Discard invalid ones (once fully parsed)\n",
    "                    if word and len(semantic_features[word]['features']) < N_SEMANTIC_FEATURES: del semantic_features[word] \n",
    "                        \n",
    "                    word = line.split(\"<a name=\\\"\")[1].split(\"\\\"\")[0]\n",
    "                    semantic_features[word] = { \"features\": [], \"values\": []}\n",
    "\n",
    "                elif word:\n",
    "                    feature_name = line.split(\"(\")[0]\n",
    "                    val = float(line.split(\"(\")[1].split(\")\")[0])\n",
    "                    semantic_features[word][\"features\"].append(feature_name)\n",
    "                    semantic_features[word][\"values\"].append(val)\n",
    "\n",
    "    # Save to file\n",
    "    with open(os.path.join('data', 'mitchell_semantic_features.json'), 'w') as fp:\n",
    "        json.dump(semantic_features, fp)\n",
    "\n",
    "    return semantic_features"
   ]
  },
  {
   "cell_type": "code",
   "execution_count": 3,
   "metadata": {},
   "outputs": [],
   "source": [
    "semantic_features = dump_mitchell_web_semantic_features()"
   ]
  },
  {
   "attachments": {},
   "cell_type": "markdown",
   "metadata": {},
   "source": [
    "### fMRI data"
   ]
  },
  {
   "cell_type": "code",
   "execution_count": 4,
   "metadata": {},
   "outputs": [],
   "source": [
    "def get_word_activations(path, skip_lines=0):\n",
    "    \"\"\"\n",
    "        Returns dataset of fMRI word activations\n",
    "        path            Path to .txt fMRI data vectors (continuous) from Cognival\n",
    "        context_len     Words before the occurring one\n",
    "        data            Returned dictionary with key ['word'] -> {'context', 'activations'}\n",
    "    \"\"\"\n",
    "    data = {}\n",
    "    with open(path, \"r\") as datafile:\n",
    "        lines = datafile.readlines()[skip_lines:] # skip header\n",
    "        for line in tqdm(lines):\n",
    "            word = line.split(\" \")[0]\n",
    "            activations = np.array([float(x) for x in line.split(\" \")[1:]])\n",
    "            data[word] = {\"activations\": activations}\n",
    "    return data"
   ]
  },
  {
   "cell_type": "code",
   "execution_count": 5,
   "metadata": {},
   "outputs": [
    {
     "name": "stderr",
     "output_type": "stream",
     "text": [
      "100%|██████████| 60/60 [00:00<00:00, 2227.48it/s]\n"
     ]
    }
   ],
   "source": [
    "subject = 1\n",
    "voxels = 1000\n",
    "\n",
    "# Over all subjects\n",
    "filename = os.path.join(\"data\", \"cognival\", \"fmri\", \"nouns\", f\"{voxels}-random-voxels\", f\"scaled_{voxels}_mitchell_targets_{subject}.txt\")\n",
    "fmriData = get_word_activations(filename, skip_lines = 1)"
   ]
  },
  {
   "cell_type": "markdown",
   "metadata": {},
   "source": [
    "### Predicting"
   ]
  },
  {
   "cell_type": "code",
   "execution_count": 6,
   "metadata": {},
   "outputs": [],
   "source": [
    "from sklearn.model_selection import train_test_split\n",
    "from sklearn.pipeline import make_pipeline\n",
    "from sklearn.preprocessing import StandardScaler\n",
    "\n",
    "from tqdm import tqdm"
   ]
  },
  {
   "cell_type": "code",
   "execution_count": 7,
   "metadata": {},
   "outputs": [
    {
     "name": "stderr",
     "output_type": "stream",
     "text": [
      "100%|██████████| 59/59 [00:00<?, ?it/s]\n"
     ]
    }
   ],
   "source": [
    "# Building train set\n",
    "X = []\n",
    "Y = []\n",
    "for word in tqdm(semantic_features.keys()):\n",
    "    if word in fmriData.keys():\n",
    "        X.append(semantic_features[word][\"values\"])\n",
    "        Y.append(fmriData[word][\"activations\"])\n",
    "\n",
    "# Fetch fMRI activations from the dataset\n",
    "X = np.array(X)\n",
    "Y = np.array(Y)"
   ]
  },
  {
   "cell_type": "code",
   "execution_count": 8,
   "metadata": {},
   "outputs": [
    {
     "name": "stdout",
     "output_type": "stream",
     "text": [
      "(57, 25) (2, 25)\n",
      "(57, 1000) (2, 1000)\n"
     ]
    }
   ],
   "source": [
    "X_train, X_test, y_train, y_test = train_test_split(\n",
    "    X, Y, test_size=0.03, random_state=42)\n",
    "\n",
    "print(X_train.shape, X_test.shape)\n",
    "print(y_train.shape, y_test.shape)"
   ]
  },
  {
   "cell_type": "code",
   "execution_count": 16,
   "metadata": {},
   "outputs": [
    {
     "name": "stderr",
     "output_type": "stream",
     "text": [
      "100%|██████████| 1000/1000 [00:00<00:00, 1476.89it/s]\n"
     ]
    }
   ],
   "source": [
    "from sklearn.linear_model import LinearRegression\n",
    "from sklearn.neural_network import MLPRegressor\n",
    "\n",
    "# make_pipeline(StandardScaler(with_mean=False), LinearRegression())\n",
    "predictors = [LinearRegression() for i in range(voxels)]\n",
    "scores = []\n",
    "\n",
    "# One predictor per voxel\n",
    "i = 0\n",
    "for model in tqdm(predictors):\n",
    "    model.fit(X_train, y_train[:, i])\n",
    "    scores.append(model.score(X_test, y_test[:, i]))\n",
    "    i += 1\n",
    "\n",
    "scores = np.array(scores)"
   ]
  },
  {
   "cell_type": "code",
   "execution_count": 17,
   "metadata": {},
   "outputs": [
    {
     "name": "stdout",
     "output_type": "stream",
     "text": [
      "min \t\t max \t\t mean\n",
      "0.3134 \t\t 0.9952 \t 0.6793\n"
     ]
    }
   ],
   "source": [
    "# Picking the best 100 predictors (voxels)\n",
    "K = 100\n",
    "ind = np.argpartition(scores, -K)[-K:]\n",
    "\n",
    "print(\"min \\t\\t max \\t\\t mean\")\n",
    "print(f\"{np.min(scores[ind]):.4f} \\t\\t {np.max(scores[ind]):.4f} \\t {np.mean(scores[ind]):.4f}\")"
   ]
  },
  {
   "cell_type": "code",
   "execution_count": 24,
   "metadata": {},
   "outputs": [
    {
     "name": "stdout",
     "output_type": "stream",
     "text": [
      "Test RDMs R^2:\tPearsonRResult(statistic=0.06353489710146562, pvalue=0.00029035443943860626)\n"
     ]
    },
    {
     "data": {
      "text/plain": [
       "<matplotlib.colorbar.Colorbar at 0x1f259de7880>"
      ]
     },
     "execution_count": 24,
     "metadata": {},
     "output_type": "execute_result"
    },
    {
     "data": {
      "image/png": "[encoded data removed]",
      "text/plain": [
       "<Figure size 640x480 with 4 Axes>"
      ]
     },
     "metadata": {},
     "output_type": "display_data"
    }
   ],
   "source": [
    "from scipy.stats import pearsonr\n",
    "import matplotlib.pyplot as plt\n",
    "\n",
    "def best_K_predict(X, indices, predictors):\n",
    "    predictors = [predictors[idx] for idx in indices]\n",
    "    y_hat = np.array([predictor.predict(X) for predictor in predictors]) # voxels, sample\n",
    "    return y_hat.reshape(y_hat.shape[1], y_hat.shape[0]) # sample, voxels\n",
    "\n",
    "\n",
    "y_hat = best_K_predict(X_train, ind, predictors)\n",
    "y = y_train[:, ind]\n",
    "\n",
    "RDM_hat = np.matmul(y_hat, np.matrix.transpose(y_hat))\n",
    "# RDM_hat = (RDM_hat - RDM_hat.min()) / (RDM_hat.max() - RDM_hat.min())\n",
    "\n",
    "RDM = np.matmul(y, np.matrix.transpose(y))\n",
    "# RDM = (RDM - RDM.min()) / (RDM.max() - RDM.min())\n",
    "\n",
    "test_pearson = pearsonr(\n",
    "    RDM_hat.flatten(),\n",
    "    RDM.flatten()\n",
    ")\n",
    "\n",
    "print(f\"Test RDMs R^2:\\t{test_pearson}\")\n",
    "\n",
    "plt.subplot(311)\n",
    "plt.imshow(RDM)\n",
    "plt.colorbar()\n",
    "\n",
    "plt.subplot(312)\n",
    "plt.imshow(RDM_hat)\n",
    "plt.colorbar()"
   ]
  },
  {
   "cell_type": "code",
   "execution_count": null,
   "metadata": {},
   "outputs": [],
   "source": []
  }
 ],
 "metadata": {
  "kernelspec": {
   "display_name": "pytorch_deeplearning",
   "language": "python",
   "name": "python3"
  },
  "language_info": {
   "codemirror_mode": {
    "name": "ipython",
    "version": 3
   },
   "file_extension": ".py",
   "mimetype": "text/x-python",
   "name": "python",
   "nbconvert_exporter": "python",
   "pygments_lexer": "ipython3",
   "version": "3.8.13"
  },
  "orig_nbformat": 4
 },
 "nbformat": 4,
 "nbformat_minor": 2
}
